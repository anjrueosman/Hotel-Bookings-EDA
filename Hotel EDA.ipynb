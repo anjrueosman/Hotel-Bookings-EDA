{
 "cells": [
  {
   "cell_type": "markdown",
   "id": "6a1fb994",
   "metadata": {},
   "source": [
    "![banner](https://cdn.ciconiatravel.com/wp-content/uploads/2019/11/Mykonos-to-Athens-banner.jpg)"
   ]
  },
  {
   "cell_type": "markdown",
   "id": "b4192cfe",
   "metadata": {},
   "source": [
    "## In this notebook, I plan to show my skills doing basic exploratory data analysis on imported csv data. The [data](https://www.kaggle.com/jessemostipak/hotel-booking-demand) comes from user Jesse Mostipak on Kaggle. From the author:\n",
    "\n",
    "This data set contains booking information for a city hotel and a resort hotel, and includes information such as when the booking was made, length of stay, the number of adults, children, and/or babies, and the number of available parking spaces, among other things.\n",
    "\n",
    "The data is originally from the article Hotel Booking Demand Datasets, written by Nuno Antonio, Ana Almeida, and Luis Nunes for Data in Brief, Volume 22, February 2019.\n",
    "\n",
    "The data was downloaded and cleaned by Thomas Mock and Antoine Bichat for #TidyTuesday during the week of February 11th, 2020.\n",
    "\n",
    "---"
   ]
  },
  {
   "cell_type": "markdown",
   "id": "a7e3728f",
   "metadata": {},
   "source": [
    "## 1. First, let's import key libraries, read the csv, and quickly clean outstanding issues with the data\n",
    "- Importing 'hotel_bookings.csv', assigning it to a dataframe, and checking info on the df:"
   ]
  },
  {
   "cell_type": "code",
   "execution_count": 60,
   "id": "e7c1afb2",
   "metadata": {},
   "outputs": [],
   "source": [
    "import numpy as np\n",
    "import pandas as pd\n",
    "import matplotlib.pyplot as plt\n",
    "import matplotlib.dates as mdates\n",
    "import seaborn as sns\n",
    "%matplotlib inline\n",
    "from datetime import datetime"
   ]
  },
  {
   "cell_type": "code",
   "execution_count": 61,
   "id": "341207c5",
   "metadata": {},
   "outputs": [
    {
     "name": "stdout",
     "output_type": "stream",
     "text": [
      "<class 'pandas.core.frame.DataFrame'>\n",
      "RangeIndex: 119390 entries, 0 to 119389\n",
      "Data columns (total 32 columns):\n",
      " #   Column                          Non-Null Count   Dtype  \n",
      "---  ------                          --------------   -----  \n",
      " 0   hotel                           119390 non-null  object \n",
      " 1   is_canceled                     119390 non-null  int64  \n",
      " 2   lead_time                       119390 non-null  int64  \n",
      " 3   arrival_date_year               119390 non-null  int64  \n",
      " 4   arrival_date_month              119390 non-null  object \n",
      " 5   arrival_date_week_number        119390 non-null  int64  \n",
      " 6   arrival_date_day_of_month       119390 non-null  int64  \n",
      " 7   stays_in_weekend_nights         119390 non-null  int64  \n",
      " 8   stays_in_week_nights            119390 non-null  int64  \n",
      " 9   adults                          119390 non-null  int64  \n",
      " 10  children                        119386 non-null  float64\n",
      " 11  babies                          119390 non-null  int64  \n",
      " 12  meal                            119390 non-null  object \n",
      " 13  country                         118902 non-null  object \n",
      " 14  market_segment                  119390 non-null  object \n",
      " 15  distribution_channel            119390 non-null  object \n",
      " 16  is_repeated_guest               119390 non-null  int64  \n",
      " 17  previous_cancellations          119390 non-null  int64  \n",
      " 18  previous_bookings_not_canceled  119390 non-null  int64  \n",
      " 19  reserved_room_type              119390 non-null  object \n",
      " 20  assigned_room_type              119390 non-null  object \n",
      " 21  booking_changes                 119390 non-null  int64  \n",
      " 22  deposit_type                    119390 non-null  object \n",
      " 23  agent                           103050 non-null  float64\n",
      " 24  company                         6797 non-null    float64\n",
      " 25  days_in_waiting_list            119390 non-null  int64  \n",
      " 26  customer_type                   119390 non-null  object \n",
      " 27  adr                             119390 non-null  float64\n",
      " 28  required_car_parking_spaces     119390 non-null  int64  \n",
      " 29  total_of_special_requests       119390 non-null  int64  \n",
      " 30  reservation_status              119390 non-null  object \n",
      " 31  reservation_status_date         119390 non-null  object \n",
      "dtypes: float64(4), int64(16), object(12)\n",
      "memory usage: 29.1+ MB\n"
     ]
    },
    {
     "data": {
      "text/html": [
       "<div>\n",
       "<style scoped>\n",
       "    .dataframe tbody tr th:only-of-type {\n",
       "        vertical-align: middle;\n",
       "    }\n",
       "\n",
       "    .dataframe tbody tr th {\n",
       "        vertical-align: top;\n",
       "    }\n",
       "\n",
       "    .dataframe thead th {\n",
       "        text-align: right;\n",
       "    }\n",
       "</style>\n",
       "<table border=\"1\" class=\"dataframe\">\n",
       "  <thead>\n",
       "    <tr style=\"text-align: right;\">\n",
       "      <th></th>\n",
       "      <th>hotel</th>\n",
       "      <th>is_canceled</th>\n",
       "      <th>lead_time</th>\n",
       "      <th>arrival_date_year</th>\n",
       "      <th>arrival_date_month</th>\n",
       "      <th>arrival_date_week_number</th>\n",
       "      <th>arrival_date_day_of_month</th>\n",
       "      <th>stays_in_weekend_nights</th>\n",
       "      <th>stays_in_week_nights</th>\n",
       "      <th>adults</th>\n",
       "      <th>children</th>\n",
       "      <th>babies</th>\n",
       "      <th>meal</th>\n",
       "      <th>country</th>\n",
       "      <th>market_segment</th>\n",
       "      <th>distribution_channel</th>\n",
       "      <th>is_repeated_guest</th>\n",
       "      <th>previous_cancellations</th>\n",
       "      <th>previous_bookings_not_canceled</th>\n",
       "      <th>reserved_room_type</th>\n",
       "      <th>assigned_room_type</th>\n",
       "      <th>booking_changes</th>\n",
       "      <th>deposit_type</th>\n",
       "      <th>agent</th>\n",
       "      <th>company</th>\n",
       "      <th>days_in_waiting_list</th>\n",
       "      <th>customer_type</th>\n",
       "      <th>adr</th>\n",
       "      <th>required_car_parking_spaces</th>\n",
       "      <th>total_of_special_requests</th>\n",
       "      <th>reservation_status</th>\n",
       "      <th>reservation_status_date</th>\n",
       "    </tr>\n",
       "  </thead>\n",
       "  <tbody>\n",
       "    <tr>\n",
       "      <th>0</th>\n",
       "      <td>Resort Hotel</td>\n",
       "      <td>0</td>\n",
       "      <td>342</td>\n",
       "      <td>2015</td>\n",
       "      <td>July</td>\n",
       "      <td>27</td>\n",
       "      <td>1</td>\n",
       "      <td>0</td>\n",
       "      <td>0</td>\n",
       "      <td>2</td>\n",
       "      <td>0.0</td>\n",
       "      <td>0</td>\n",
       "      <td>BB</td>\n",
       "      <td>PRT</td>\n",
       "      <td>Direct</td>\n",
       "      <td>Direct</td>\n",
       "      <td>0</td>\n",
       "      <td>0</td>\n",
       "      <td>0</td>\n",
       "      <td>C</td>\n",
       "      <td>C</td>\n",
       "      <td>3</td>\n",
       "      <td>No Deposit</td>\n",
       "      <td>NaN</td>\n",
       "      <td>NaN</td>\n",
       "      <td>0</td>\n",
       "      <td>Transient</td>\n",
       "      <td>0.0</td>\n",
       "      <td>0</td>\n",
       "      <td>0</td>\n",
       "      <td>Check-Out</td>\n",
       "      <td>2015-07-01</td>\n",
       "    </tr>\n",
       "    <tr>\n",
       "      <th>1</th>\n",
       "      <td>Resort Hotel</td>\n",
       "      <td>0</td>\n",
       "      <td>737</td>\n",
       "      <td>2015</td>\n",
       "      <td>July</td>\n",
       "      <td>27</td>\n",
       "      <td>1</td>\n",
       "      <td>0</td>\n",
       "      <td>0</td>\n",
       "      <td>2</td>\n",
       "      <td>0.0</td>\n",
       "      <td>0</td>\n",
       "      <td>BB</td>\n",
       "      <td>PRT</td>\n",
       "      <td>Direct</td>\n",
       "      <td>Direct</td>\n",
       "      <td>0</td>\n",
       "      <td>0</td>\n",
       "      <td>0</td>\n",
       "      <td>C</td>\n",
       "      <td>C</td>\n",
       "      <td>4</td>\n",
       "      <td>No Deposit</td>\n",
       "      <td>NaN</td>\n",
       "      <td>NaN</td>\n",
       "      <td>0</td>\n",
       "      <td>Transient</td>\n",
       "      <td>0.0</td>\n",
       "      <td>0</td>\n",
       "      <td>0</td>\n",
       "      <td>Check-Out</td>\n",
       "      <td>2015-07-01</td>\n",
       "    </tr>\n",
       "    <tr>\n",
       "      <th>2</th>\n",
       "      <td>Resort Hotel</td>\n",
       "      <td>0</td>\n",
       "      <td>7</td>\n",
       "      <td>2015</td>\n",
       "      <td>July</td>\n",
       "      <td>27</td>\n",
       "      <td>1</td>\n",
       "      <td>0</td>\n",
       "      <td>1</td>\n",
       "      <td>1</td>\n",
       "      <td>0.0</td>\n",
       "      <td>0</td>\n",
       "      <td>BB</td>\n",
       "      <td>GBR</td>\n",
       "      <td>Direct</td>\n",
       "      <td>Direct</td>\n",
       "      <td>0</td>\n",
       "      <td>0</td>\n",
       "      <td>0</td>\n",
       "      <td>A</td>\n",
       "      <td>C</td>\n",
       "      <td>0</td>\n",
       "      <td>No Deposit</td>\n",
       "      <td>NaN</td>\n",
       "      <td>NaN</td>\n",
       "      <td>0</td>\n",
       "      <td>Transient</td>\n",
       "      <td>75.0</td>\n",
       "      <td>0</td>\n",
       "      <td>0</td>\n",
       "      <td>Check-Out</td>\n",
       "      <td>2015-07-02</td>\n",
       "    </tr>\n",
       "    <tr>\n",
       "      <th>3</th>\n",
       "      <td>Resort Hotel</td>\n",
       "      <td>0</td>\n",
       "      <td>13</td>\n",
       "      <td>2015</td>\n",
       "      <td>July</td>\n",
       "      <td>27</td>\n",
       "      <td>1</td>\n",
       "      <td>0</td>\n",
       "      <td>1</td>\n",
       "      <td>1</td>\n",
       "      <td>0.0</td>\n",
       "      <td>0</td>\n",
       "      <td>BB</td>\n",
       "      <td>GBR</td>\n",
       "      <td>Corporate</td>\n",
       "      <td>Corporate</td>\n",
       "      <td>0</td>\n",
       "      <td>0</td>\n",
       "      <td>0</td>\n",
       "      <td>A</td>\n",
       "      <td>A</td>\n",
       "      <td>0</td>\n",
       "      <td>No Deposit</td>\n",
       "      <td>304.0</td>\n",
       "      <td>NaN</td>\n",
       "      <td>0</td>\n",
       "      <td>Transient</td>\n",
       "      <td>75.0</td>\n",
       "      <td>0</td>\n",
       "      <td>0</td>\n",
       "      <td>Check-Out</td>\n",
       "      <td>2015-07-02</td>\n",
       "    </tr>\n",
       "    <tr>\n",
       "      <th>4</th>\n",
       "      <td>Resort Hotel</td>\n",
       "      <td>0</td>\n",
       "      <td>14</td>\n",
       "      <td>2015</td>\n",
       "      <td>July</td>\n",
       "      <td>27</td>\n",
       "      <td>1</td>\n",
       "      <td>0</td>\n",
       "      <td>2</td>\n",
       "      <td>2</td>\n",
       "      <td>0.0</td>\n",
       "      <td>0</td>\n",
       "      <td>BB</td>\n",
       "      <td>GBR</td>\n",
       "      <td>Online TA</td>\n",
       "      <td>TA/TO</td>\n",
       "      <td>0</td>\n",
       "      <td>0</td>\n",
       "      <td>0</td>\n",
       "      <td>A</td>\n",
       "      <td>A</td>\n",
       "      <td>0</td>\n",
       "      <td>No Deposit</td>\n",
       "      <td>240.0</td>\n",
       "      <td>NaN</td>\n",
       "      <td>0</td>\n",
       "      <td>Transient</td>\n",
       "      <td>98.0</td>\n",
       "      <td>0</td>\n",
       "      <td>1</td>\n",
       "      <td>Check-Out</td>\n",
       "      <td>2015-07-03</td>\n",
       "    </tr>\n",
       "  </tbody>\n",
       "</table>\n",
       "</div>"
      ],
      "text/plain": [
       "          hotel  is_canceled  lead_time  arrival_date_year arrival_date_month  \\\n",
       "0  Resort Hotel            0        342               2015               July   \n",
       "1  Resort Hotel            0        737               2015               July   \n",
       "2  Resort Hotel            0          7               2015               July   \n",
       "3  Resort Hotel            0         13               2015               July   \n",
       "4  Resort Hotel            0         14               2015               July   \n",
       "\n",
       "   arrival_date_week_number  arrival_date_day_of_month  \\\n",
       "0                        27                          1   \n",
       "1                        27                          1   \n",
       "2                        27                          1   \n",
       "3                        27                          1   \n",
       "4                        27                          1   \n",
       "\n",
       "   stays_in_weekend_nights  stays_in_week_nights  adults  children  babies  \\\n",
       "0                        0                     0       2       0.0       0   \n",
       "1                        0                     0       2       0.0       0   \n",
       "2                        0                     1       1       0.0       0   \n",
       "3                        0                     1       1       0.0       0   \n",
       "4                        0                     2       2       0.0       0   \n",
       "\n",
       "  meal country market_segment distribution_channel  is_repeated_guest  \\\n",
       "0   BB     PRT         Direct               Direct                  0   \n",
       "1   BB     PRT         Direct               Direct                  0   \n",
       "2   BB     GBR         Direct               Direct                  0   \n",
       "3   BB     GBR      Corporate            Corporate                  0   \n",
       "4   BB     GBR      Online TA                TA/TO                  0   \n",
       "\n",
       "   previous_cancellations  previous_bookings_not_canceled reserved_room_type  \\\n",
       "0                       0                               0                  C   \n",
       "1                       0                               0                  C   \n",
       "2                       0                               0                  A   \n",
       "3                       0                               0                  A   \n",
       "4                       0                               0                  A   \n",
       "\n",
       "  assigned_room_type  booking_changes deposit_type  agent  company  \\\n",
       "0                  C                3   No Deposit    NaN      NaN   \n",
       "1                  C                4   No Deposit    NaN      NaN   \n",
       "2                  C                0   No Deposit    NaN      NaN   \n",
       "3                  A                0   No Deposit  304.0      NaN   \n",
       "4                  A                0   No Deposit  240.0      NaN   \n",
       "\n",
       "   days_in_waiting_list customer_type   adr  required_car_parking_spaces  \\\n",
       "0                     0     Transient   0.0                            0   \n",
       "1                     0     Transient   0.0                            0   \n",
       "2                     0     Transient  75.0                            0   \n",
       "3                     0     Transient  75.0                            0   \n",
       "4                     0     Transient  98.0                            0   \n",
       "\n",
       "   total_of_special_requests reservation_status reservation_status_date  \n",
       "0                          0          Check-Out              2015-07-01  \n",
       "1                          0          Check-Out              2015-07-01  \n",
       "2                          0          Check-Out              2015-07-02  \n",
       "3                          0          Check-Out              2015-07-02  \n",
       "4                          1          Check-Out              2015-07-03  "
      ]
     },
     "execution_count": 61,
     "metadata": {},
     "output_type": "execute_result"
    }
   ],
   "source": [
    "df = pd.read_csv('hotel_bookings.csv') # import csv as df\n",
    "pd.set_option('display.max_columns', None) # show all columns\n",
    "df.info()\n",
    "df.head()"
   ]
  },
  {
   "cell_type": "markdown",
   "id": "ced5bde6",
   "metadata": {},
   "source": [
    "### Removing 'na' values in columns where they are unacceptable:\n",
    "\n",
    "- We see that, based on the df.info() call, that the **children**, **country**, **agent**, and **company** columns do not have as many non-null objects as the other columns. \n",
    "- We will delete rows in which **children** and **country** have n/a values since the values for those rows isn't known. We will keep the rows with null agent and company values - these are acceptable because not all booking are associated with an agent or company.\n",
    "\n",
    "    - `df[df['col_name'].notna()]` filters out rows where the specified column has an 'na' value."
   ]
  },
  {
   "cell_type": "code",
   "execution_count": 62,
   "id": "9eb0bc10",
   "metadata": {
    "scrolled": true
   },
   "outputs": [
    {
     "data": {
      "text/plain": [
       "hotel                                  0\n",
       "is_canceled                            0\n",
       "lead_time                              0\n",
       "arrival_date_year                      0\n",
       "arrival_date_month                     0\n",
       "arrival_date_week_number               0\n",
       "arrival_date_day_of_month              0\n",
       "stays_in_weekend_nights                0\n",
       "stays_in_week_nights                   0\n",
       "adults                                 0\n",
       "children                               0\n",
       "babies                                 0\n",
       "meal                                   0\n",
       "country                                0\n",
       "market_segment                         0\n",
       "distribution_channel                   0\n",
       "is_repeated_guest                      0\n",
       "previous_cancellations                 0\n",
       "previous_bookings_not_canceled         0\n",
       "reserved_room_type                     0\n",
       "assigned_room_type                     0\n",
       "booking_changes                        0\n",
       "deposit_type                           0\n",
       "agent                              16004\n",
       "company                           112275\n",
       "days_in_waiting_list                   0\n",
       "customer_type                          0\n",
       "adr                                    0\n",
       "required_car_parking_spaces            0\n",
       "total_of_special_requests              0\n",
       "reservation_status                     0\n",
       "reservation_status_date                0\n",
       "dtype: int64"
      ]
     },
     "execution_count": 62,
     "metadata": {},
     "output_type": "execute_result"
    }
   ],
   "source": [
    "df = df[df['country'].notna()] \n",
    "df = df[df['children'].notna()] \n",
    "df.isna().sum() "
   ]
  },
  {
   "cell_type": "markdown",
   "id": "69421a35",
   "metadata": {},
   "source": [
    "- The n/a values in the children and country columns have been removed.\n",
    "- Let's try `df.describe()` to find any potential errors or outliers."
   ]
  },
  {
   "cell_type": "code",
   "execution_count": 63,
   "id": "1187923b",
   "metadata": {},
   "outputs": [
    {
     "data": {
      "text/html": [
       "<div>\n",
       "<style scoped>\n",
       "    .dataframe tbody tr th:only-of-type {\n",
       "        vertical-align: middle;\n",
       "    }\n",
       "\n",
       "    .dataframe tbody tr th {\n",
       "        vertical-align: top;\n",
       "    }\n",
       "\n",
       "    .dataframe thead th {\n",
       "        text-align: right;\n",
       "    }\n",
       "</style>\n",
       "<table border=\"1\" class=\"dataframe\">\n",
       "  <thead>\n",
       "    <tr style=\"text-align: right;\">\n",
       "      <th></th>\n",
       "      <th>is_canceled</th>\n",
       "      <th>lead_time</th>\n",
       "      <th>arrival_date_year</th>\n",
       "      <th>arrival_date_week_number</th>\n",
       "      <th>arrival_date_day_of_month</th>\n",
       "      <th>stays_in_weekend_nights</th>\n",
       "      <th>stays_in_week_nights</th>\n",
       "      <th>adults</th>\n",
       "      <th>children</th>\n",
       "      <th>babies</th>\n",
       "      <th>is_repeated_guest</th>\n",
       "      <th>previous_cancellations</th>\n",
       "      <th>previous_bookings_not_canceled</th>\n",
       "      <th>booking_changes</th>\n",
       "      <th>agent</th>\n",
       "      <th>company</th>\n",
       "      <th>days_in_waiting_list</th>\n",
       "      <th>adr</th>\n",
       "      <th>required_car_parking_spaces</th>\n",
       "      <th>total_of_special_requests</th>\n",
       "    </tr>\n",
       "  </thead>\n",
       "  <tbody>\n",
       "    <tr>\n",
       "      <th>count</th>\n",
       "      <td>118898.000000</td>\n",
       "      <td>118898.000000</td>\n",
       "      <td>118898.000000</td>\n",
       "      <td>118898.000000</td>\n",
       "      <td>118898.000000</td>\n",
       "      <td>118898.000000</td>\n",
       "      <td>118898.000000</td>\n",
       "      <td>118898.000000</td>\n",
       "      <td>118898.000000</td>\n",
       "      <td>118898.000000</td>\n",
       "      <td>118898.000000</td>\n",
       "      <td>118898.000000</td>\n",
       "      <td>118898.000000</td>\n",
       "      <td>118898.000000</td>\n",
       "      <td>102894.000000</td>\n",
       "      <td>6623.000000</td>\n",
       "      <td>118898.000000</td>\n",
       "      <td>118898.000000</td>\n",
       "      <td>118898.000000</td>\n",
       "      <td>118898.000000</td>\n",
       "    </tr>\n",
       "    <tr>\n",
       "      <th>mean</th>\n",
       "      <td>0.371352</td>\n",
       "      <td>104.311435</td>\n",
       "      <td>2016.157656</td>\n",
       "      <td>27.166555</td>\n",
       "      <td>15.800880</td>\n",
       "      <td>0.928897</td>\n",
       "      <td>2.502145</td>\n",
       "      <td>1.858391</td>\n",
       "      <td>0.104207</td>\n",
       "      <td>0.007948</td>\n",
       "      <td>0.032011</td>\n",
       "      <td>0.087142</td>\n",
       "      <td>0.131634</td>\n",
       "      <td>0.221181</td>\n",
       "      <td>86.545532</td>\n",
       "      <td>189.624792</td>\n",
       "      <td>2.330754</td>\n",
       "      <td>102.003243</td>\n",
       "      <td>0.061885</td>\n",
       "      <td>0.571683</td>\n",
       "    </tr>\n",
       "    <tr>\n",
       "      <th>std</th>\n",
       "      <td>0.483168</td>\n",
       "      <td>106.903309</td>\n",
       "      <td>0.707459</td>\n",
       "      <td>13.589971</td>\n",
       "      <td>8.780324</td>\n",
       "      <td>0.996216</td>\n",
       "      <td>1.900168</td>\n",
       "      <td>0.578576</td>\n",
       "      <td>0.399172</td>\n",
       "      <td>0.097380</td>\n",
       "      <td>0.176029</td>\n",
       "      <td>0.845869</td>\n",
       "      <td>1.484672</td>\n",
       "      <td>0.652785</td>\n",
       "      <td>110.714259</td>\n",
       "      <td>132.124298</td>\n",
       "      <td>17.630452</td>\n",
       "      <td>50.485862</td>\n",
       "      <td>0.244172</td>\n",
       "      <td>0.792678</td>\n",
       "    </tr>\n",
       "    <tr>\n",
       "      <th>min</th>\n",
       "      <td>0.000000</td>\n",
       "      <td>0.000000</td>\n",
       "      <td>2015.000000</td>\n",
       "      <td>1.000000</td>\n",
       "      <td>1.000000</td>\n",
       "      <td>0.000000</td>\n",
       "      <td>0.000000</td>\n",
       "      <td>0.000000</td>\n",
       "      <td>0.000000</td>\n",
       "      <td>0.000000</td>\n",
       "      <td>0.000000</td>\n",
       "      <td>0.000000</td>\n",
       "      <td>0.000000</td>\n",
       "      <td>0.000000</td>\n",
       "      <td>1.000000</td>\n",
       "      <td>6.000000</td>\n",
       "      <td>0.000000</td>\n",
       "      <td>-6.380000</td>\n",
       "      <td>0.000000</td>\n",
       "      <td>0.000000</td>\n",
       "    </tr>\n",
       "    <tr>\n",
       "      <th>25%</th>\n",
       "      <td>0.000000</td>\n",
       "      <td>18.000000</td>\n",
       "      <td>2016.000000</td>\n",
       "      <td>16.000000</td>\n",
       "      <td>8.000000</td>\n",
       "      <td>0.000000</td>\n",
       "      <td>1.000000</td>\n",
       "      <td>2.000000</td>\n",
       "      <td>0.000000</td>\n",
       "      <td>0.000000</td>\n",
       "      <td>0.000000</td>\n",
       "      <td>0.000000</td>\n",
       "      <td>0.000000</td>\n",
       "      <td>0.000000</td>\n",
       "      <td>9.000000</td>\n",
       "      <td>62.000000</td>\n",
       "      <td>0.000000</td>\n",
       "      <td>70.000000</td>\n",
       "      <td>0.000000</td>\n",
       "      <td>0.000000</td>\n",
       "    </tr>\n",
       "    <tr>\n",
       "      <th>50%</th>\n",
       "      <td>0.000000</td>\n",
       "      <td>69.000000</td>\n",
       "      <td>2016.000000</td>\n",
       "      <td>28.000000</td>\n",
       "      <td>16.000000</td>\n",
       "      <td>1.000000</td>\n",
       "      <td>2.000000</td>\n",
       "      <td>2.000000</td>\n",
       "      <td>0.000000</td>\n",
       "      <td>0.000000</td>\n",
       "      <td>0.000000</td>\n",
       "      <td>0.000000</td>\n",
       "      <td>0.000000</td>\n",
       "      <td>0.000000</td>\n",
       "      <td>14.000000</td>\n",
       "      <td>179.000000</td>\n",
       "      <td>0.000000</td>\n",
       "      <td>95.000000</td>\n",
       "      <td>0.000000</td>\n",
       "      <td>0.000000</td>\n",
       "    </tr>\n",
       "    <tr>\n",
       "      <th>75%</th>\n",
       "      <td>1.000000</td>\n",
       "      <td>161.000000</td>\n",
       "      <td>2017.000000</td>\n",
       "      <td>38.000000</td>\n",
       "      <td>23.000000</td>\n",
       "      <td>2.000000</td>\n",
       "      <td>3.000000</td>\n",
       "      <td>2.000000</td>\n",
       "      <td>0.000000</td>\n",
       "      <td>0.000000</td>\n",
       "      <td>0.000000</td>\n",
       "      <td>0.000000</td>\n",
       "      <td>0.000000</td>\n",
       "      <td>0.000000</td>\n",
       "      <td>229.000000</td>\n",
       "      <td>270.000000</td>\n",
       "      <td>0.000000</td>\n",
       "      <td>126.000000</td>\n",
       "      <td>0.000000</td>\n",
       "      <td>1.000000</td>\n",
       "    </tr>\n",
       "    <tr>\n",
       "      <th>max</th>\n",
       "      <td>1.000000</td>\n",
       "      <td>737.000000</td>\n",
       "      <td>2017.000000</td>\n",
       "      <td>53.000000</td>\n",
       "      <td>31.000000</td>\n",
       "      <td>16.000000</td>\n",
       "      <td>41.000000</td>\n",
       "      <td>55.000000</td>\n",
       "      <td>10.000000</td>\n",
       "      <td>10.000000</td>\n",
       "      <td>1.000000</td>\n",
       "      <td>26.000000</td>\n",
       "      <td>72.000000</td>\n",
       "      <td>21.000000</td>\n",
       "      <td>535.000000</td>\n",
       "      <td>543.000000</td>\n",
       "      <td>391.000000</td>\n",
       "      <td>5400.000000</td>\n",
       "      <td>8.000000</td>\n",
       "      <td>5.000000</td>\n",
       "    </tr>\n",
       "  </tbody>\n",
       "</table>\n",
       "</div>"
      ],
      "text/plain": [
       "         is_canceled      lead_time  arrival_date_year  \\\n",
       "count  118898.000000  118898.000000      118898.000000   \n",
       "mean        0.371352     104.311435        2016.157656   \n",
       "std         0.483168     106.903309           0.707459   \n",
       "min         0.000000       0.000000        2015.000000   \n",
       "25%         0.000000      18.000000        2016.000000   \n",
       "50%         0.000000      69.000000        2016.000000   \n",
       "75%         1.000000     161.000000        2017.000000   \n",
       "max         1.000000     737.000000        2017.000000   \n",
       "\n",
       "       arrival_date_week_number  arrival_date_day_of_month  \\\n",
       "count             118898.000000              118898.000000   \n",
       "mean                  27.166555                  15.800880   \n",
       "std                   13.589971                   8.780324   \n",
       "min                    1.000000                   1.000000   \n",
       "25%                   16.000000                   8.000000   \n",
       "50%                   28.000000                  16.000000   \n",
       "75%                   38.000000                  23.000000   \n",
       "max                   53.000000                  31.000000   \n",
       "\n",
       "       stays_in_weekend_nights  stays_in_week_nights         adults  \\\n",
       "count            118898.000000         118898.000000  118898.000000   \n",
       "mean                  0.928897              2.502145       1.858391   \n",
       "std                   0.996216              1.900168       0.578576   \n",
       "min                   0.000000              0.000000       0.000000   \n",
       "25%                   0.000000              1.000000       2.000000   \n",
       "50%                   1.000000              2.000000       2.000000   \n",
       "75%                   2.000000              3.000000       2.000000   \n",
       "max                  16.000000             41.000000      55.000000   \n",
       "\n",
       "            children         babies  is_repeated_guest  \\\n",
       "count  118898.000000  118898.000000      118898.000000   \n",
       "mean        0.104207       0.007948           0.032011   \n",
       "std         0.399172       0.097380           0.176029   \n",
       "min         0.000000       0.000000           0.000000   \n",
       "25%         0.000000       0.000000           0.000000   \n",
       "50%         0.000000       0.000000           0.000000   \n",
       "75%         0.000000       0.000000           0.000000   \n",
       "max        10.000000      10.000000           1.000000   \n",
       "\n",
       "       previous_cancellations  previous_bookings_not_canceled  \\\n",
       "count           118898.000000                   118898.000000   \n",
       "mean                 0.087142                        0.131634   \n",
       "std                  0.845869                        1.484672   \n",
       "min                  0.000000                        0.000000   \n",
       "25%                  0.000000                        0.000000   \n",
       "50%                  0.000000                        0.000000   \n",
       "75%                  0.000000                        0.000000   \n",
       "max                 26.000000                       72.000000   \n",
       "\n",
       "       booking_changes          agent      company  days_in_waiting_list  \\\n",
       "count    118898.000000  102894.000000  6623.000000         118898.000000   \n",
       "mean          0.221181      86.545532   189.624792              2.330754   \n",
       "std           0.652785     110.714259   132.124298             17.630452   \n",
       "min           0.000000       1.000000     6.000000              0.000000   \n",
       "25%           0.000000       9.000000    62.000000              0.000000   \n",
       "50%           0.000000      14.000000   179.000000              0.000000   \n",
       "75%           0.000000     229.000000   270.000000              0.000000   \n",
       "max          21.000000     535.000000   543.000000            391.000000   \n",
       "\n",
       "                 adr  required_car_parking_spaces  total_of_special_requests  \n",
       "count  118898.000000                118898.000000              118898.000000  \n",
       "mean      102.003243                     0.061885                   0.571683  \n",
       "std        50.485862                     0.244172                   0.792678  \n",
       "min        -6.380000                     0.000000                   0.000000  \n",
       "25%        70.000000                     0.000000                   0.000000  \n",
       "50%        95.000000                     0.000000                   0.000000  \n",
       "75%       126.000000                     0.000000                   1.000000  \n",
       "max      5400.000000                     8.000000                   5.000000  "
      ]
     },
     "execution_count": 63,
     "metadata": {},
     "output_type": "execute_result"
    }
   ],
   "source": [
    "df.describe()"
   ]
  },
  {
   "cell_type": "markdown",
   "id": "e95f968b",
   "metadata": {},
   "source": [
    "- There is a large outlier on the upper end of the ADR distribution. Lets get rid of that."
   ]
  },
  {
   "cell_type": "code",
   "execution_count": 64,
   "id": "f33471d1",
   "metadata": {},
   "outputs": [],
   "source": [
    "df = df[df['adr'] < 1000]"
   ]
  },
  {
   "cell_type": "markdown",
   "id": "e173981f",
   "metadata": {},
   "source": [
    "## 2. Let's visualize frequency of bookings over time:\n",
    "\n",
    "-  We need to first create a column showing the month and year of bookings' arrival in the format Month-Year."
   ]
  },
  {
   "cell_type": "code",
   "execution_count": 65,
   "id": "7b5e50c7",
   "metadata": {},
   "outputs": [
    {
     "data": {
      "text/plain": [
       "0           July-2015\n",
       "1           July-2015\n",
       "2           July-2015\n",
       "3           July-2015\n",
       "4           July-2015\n",
       "             ...     \n",
       "119385    August-2017\n",
       "119386    August-2017\n",
       "119387    August-2017\n",
       "119388    August-2017\n",
       "119389    August-2017\n",
       "Name: arrival, Length: 118897, dtype: object"
      ]
     },
     "execution_count": 65,
     "metadata": {},
     "output_type": "execute_result"
    }
   ],
   "source": [
    "df['arrival_date_year'] = df['arrival_date_year'].astype(str) #change year column to a string so it can be used in string addition\n",
    "df['arrival'] = df['arrival_date_month'] + '-' + df['arrival_date_year'] #create arrival col in the format month-year\n",
    "df['arrival']"
   ]
  },
  {
   "cell_type": "markdown",
   "id": "46a5e947",
   "metadata": {},
   "source": [
    "- Next, let's use a seaborn countplot to display count of bookings per month.\n",
    "- Initially, my x tick labels were way too close together. I found [this clever solution](https://stackoverflow.com/questions/38947115/how-to-decrease-the-density-of-x-ticks-in-seaborn/38947307) from StackOverflow user Sascha to alleviate that issue."
   ]
  },
  {
   "cell_type": "code",
   "execution_count": 66,
   "id": "6c4ba8a3",
   "metadata": {},
   "outputs": [
    {
     "data": {
      "text/plain": [
       "Text(0, 0.5, 'Number of Reservations')"
      ]
     },
     "execution_count": 66,
     "metadata": {},
     "output_type": "execute_result"
    },
    {
     "data": {
      "image/png": "[encoded data removed]",
      "text/plain": [
       "<Figure size 1080x576 with 1 Axes>"
      ]
     },
     "metadata": {},
     "output_type": "display_data"
    }
   ],
   "source": [
    "sns.set(palette='rocket',style='white')\n",
    "\n",
    "fig, ax = plt.subplots(figsize=(15,8))\n",
    "count_plot = sns.countplot(x='arrival',data=df,hue='hotel',palette='rocket')\n",
    "\n",
    "for ind, label in enumerate(count_plot.get_xticklabels()):\n",
    "    if ind % 3 == 0:  # if every third index, display the label\n",
    "        label.set_visible(True)\n",
    "        label.set_rotation(45)\n",
    "    else:\n",
    "        label.set_visible(False)\n",
    "\n",
    "ax.legend(title = 'Type of Hotel')\n",
    "\n",
    "ax.set_xlabel('Month')\n",
    "ax.set_ylabel('Number of Reservations')"
   ]
  },
  {
   "cell_type": "markdown",
   "id": "374e9dd9",
   "metadata": {},
   "source": [
    "#### Takeaways:\n",
    "1. Bookings for both resort and city hotels fluxuate greatly with the time of year, the high season being the warmer months.\n",
    "2. City-style hotels are about twice as popular as resort hotels. This is probably because there are a lot more city hotels than resorts, and that hotels in a city are generally more affordable than a resort located in a remote area.\n",
    "3. Bookings per month seem to increase every year."
   ]
  },
  {
   "cell_type": "markdown",
   "id": "ec35b24e",
   "metadata": {},
   "source": [
    "## 3. Next, let's calculate the length of the average booking by hotel type and time of year:\n",
    "- First, we'll create a ['total nights'] column in our data frame that adds together ['stays_in_weekend_nights'] and ['stays_in_week_nights']:"
   ]
  },
  {
   "cell_type": "code",
   "execution_count": 67,
   "id": "b947e468",
   "metadata": {},
   "outputs": [],
   "source": [
    "df['total nights'] = df['stays_in_weekend_nights'] + df['stays_in_week_nights']"
   ]
  },
  {
   "cell_type": "markdown",
   "id": "ae57d86e",
   "metadata": {},
   "source": [
    "- Creating a groupby object to group bookings by arrival month and hotel type. Then taking the mean of those groupings"
   ]
  },
  {
   "cell_type": "code",
   "execution_count": 68,
   "id": "492b1fa7",
   "metadata": {},
   "outputs": [],
   "source": [
    "avg_stay_data = df.groupby(['arrival','hotel'], sort = False).mean()\n",
    "avg_stay_data.reset_index(inplace = True)                          "
   ]
  },
  {
   "cell_type": "markdown",
   "id": "542b6ca3",
   "metadata": {},
   "source": [
    "- Plotting booking month on the x axis and average length of stay on the y axis:"
   ]
  },
  {
   "cell_type": "code",
   "execution_count": 69,
   "id": "f2f38db2",
   "metadata": {},
   "outputs": [
    {
     "data": {
      "text/plain": [
       "Text(0, 0.5, 'Average Length of Stay (Nights)')"
      ]
     },
     "execution_count": 69,
     "metadata": {},
     "output_type": "execute_result"
    },
    {
     "data": {
      "image/png": "[encoded data removed]",
      "text/plain": [
       "<Figure size 1080x576 with 1 Axes>"
      ]
     },
     "metadata": {},
     "output_type": "display_data"
    }
   ],
   "source": [
    "fig2, ax2 = plt.subplots(figsize=(15,8))\n",
    "\n",
    "avg_stay_plot = sns.barplot(x = 'arrival', y = 'total nights',data = avg_stay_data, hue = 'hotel', palette='rocket')\n",
    "\n",
    "for ind, label in enumerate(avg_stay_plot.get_xticklabels()): # showing every third x tick label\n",
    "    if ind % 3 == 0: \n",
    "        label.set_visible(True)\n",
    "        label.set_rotation(45)\n",
    "    else:\n",
    "        label.set_visible(False)\n",
    "        \n",
    "ax2.legend(title = 'Type of Hotel')\n",
    "ax2.set_xlabel('Month')\n",
    "ax2.set_ylabel('Average Length of Stay (Nights)')"
   ]
  },
  {
   "cell_type": "markdown",
   "id": "a47de226",
   "metadata": {},
   "source": [
    "#### Takeaways:\n",
    "1. Bookings for resort-style hotels are much longer, on average, than city hotels. This is probably due to the fact that resorts require a long drive or flight to get to, and it's not worth the cost and time of travel unless you're staying for at least three or four nights.\n",
    "2. Average length of stay for city hotels is basically the same year around at approximately three nights. It looks like this average has slightly increased over the years, but it is hard to tell with such a short time-period.\n",
    "3. Average length of stay for resort hotels increases *drastically* in the warmer months, with the average length of stay increasing from just under three nights in January to over five nights in the summer.\n",
    "4. There is only a single month in the 26 month sample where the average length of stay for city hotels is longer than average length of stay for resort hotels - January 2017."
   ]
  },
  {
   "cell_type": "markdown",
   "id": "5d951964",
   "metadata": {},
   "source": [
    "## 4. A few more quick visualizations:\n",
    "### a) Adults, children, and babies per booking:"
   ]
  },
  {
   "cell_type": "code",
   "execution_count": 70,
   "id": "d7a89468",
   "metadata": {},
   "outputs": [
    {
     "data": {
      "text/plain": [
       "Text(0, 0.5, '')"
      ]
     },
     "execution_count": 70,
     "metadata": {},
     "output_type": "execute_result"
    },
    {
     "data": {
      "image/png": "[encoded data removed]",
      "text/plain": [
       "<Figure size 1152x360 with 3 Axes>"
      ]
     },
     "metadata": {},
     "output_type": "display_data"
    }
   ],
   "source": [
    "fig, axes = plt.subplots(1,3, figsize=(16,5)) # create a 1x3 subplot figure\n",
    "fig.suptitle('Distribution of the number of adults, children, and babies among bookings', fontsize = 16)\n",
    "sns.despine()\n",
    "# Adults per booking\n",
    "sns.countplot(ax = axes[0], x = 'adults', data = df, palette = 'rocket_r')\n",
    "axes[0].set_title(\"Adults per Booking\")\n",
    "axes[0].set_ylabel('')\n",
    "# Children per booking\n",
    "sns.countplot(ax = axes[1], x = 'children', data = df, palette = 'rocket_r')\n",
    "axes[1].set_title(\"Children per Booking\")\n",
    "axes[1].set_ylabel('')\n",
    "# Babies per booking\n",
    "sns.countplot(ax = axes[2], x = 'babies', data = df, palette = 'rocket_r')\n",
    "axes[2].set_title(\"Babies per Booking\")\n",
    "axes[2].set_ylabel('')"
   ]
  },
  {
   "cell_type": "markdown",
   "id": "760af952",
   "metadata": {},
   "source": [
    "- The median number of adults per booking is 2, with smaller groups of reservations containing one and three adults. Very few bookings zero or greater than 3 adults.\n",
    "- Most bookings have zero children or babies, but there are outliers.\n",
    "\n",
    "### b. Most commonly visited countries:\n",
    "- I create a new dataframe called top_countries to display the top 15 booked countries. There may be a more consise way to do this with a countplot. I need to explore further."
   ]
  },
  {
   "cell_type": "code",
   "execution_count": 71,
   "id": "7473748f",
   "metadata": {},
   "outputs": [
    {
     "data": {
      "image/png": "[encoded data removed]",
      "text/plain": [
       "<Figure size 1080x360 with 1 Axes>"
      ]
     },
     "metadata": {},
     "output_type": "display_data"
    }
   ],
   "source": [
    "fig, ax = plt.subplots(figsize=(15,5))\n",
    "ax.set_title('Number of Bookings per Country - Top 15', fontsize = 16)\n",
    "top_countries = pd.DataFrame(df['country'].value_counts().head(15)).reset_index()\n",
    "top_countries\n",
    "sns.barplot(x = 'index', y = 'country', data = top_countries, palette = 'rocket_r')\n",
    "ax.set_xlabel('Countries', fontsize = 12)\n",
    "ax.set_ylabel('Number of Bookings', fontsize = 12)\n",
    "sns.despine()"
   ]
  },
  {
   "cell_type": "markdown",
   "id": "884db5a4",
   "metadata": {},
   "source": [
    "### c. Average Daily Rate\n",
    "\n",
    "Let's look into what is going on with ADR between different hotel types, room types, # of people per reservation, and distribution channel."
   ]
  },
  {
   "cell_type": "code",
   "execution_count": 79,
   "id": "0b3f778d",
   "metadata": {},
   "outputs": [
    {
     "data": {
      "text/plain": [
       "<AxesSubplot:xlabel='adr', ylabel='hotel'>"
      ]
     },
     "execution_count": 79,
     "metadata": {},
     "output_type": "execute_result"
    },
    {
     "data": {
      "image/png": "[encoded data removed]",
      "text/plain": [
       "<Figure size 432x288 with 1 Axes>"
      ]
     },
     "metadata": {},
     "output_type": "display_data"
    }
   ],
   "source": [
    "sns.violinplot(x='adr',y='hotel',data=df, palette='crest')"
   ]
  },
  {
   "cell_type": "markdown",
   "id": "911d61de",
   "metadata": {},
   "source": [
    "### d. Cancellations:\n",
    "First, let's see whether a repeat customer is more or less likely to cancel on a booking: "
   ]
  },
  {
   "cell_type": "code",
   "execution_count": 73,
   "id": "04582f32",
   "metadata": {},
   "outputs": [
    {
     "data": {
      "text/plain": [
       "is_repeated_guest\n",
       "0    0.378831\n",
       "1    0.145034\n",
       "Name: is_canceled, dtype: float64"
      ]
     },
     "execution_count": 73,
     "metadata": {},
     "output_type": "execute_result"
    }
   ],
   "source": [
    "df.groupby('is_repeated_guest')['is_canceled'].mean()"
   ]
  },
  {
   "cell_type": "markdown",
   "id": "63faf4d0",
   "metadata": {},
   "source": [
    "A repeat guest's booking is cancelled 14.5 % of the time while a first-time guest cancels the booking 37.9% of the time. As such, hotels should push to get repeat guests to stay at their hotel again since their rate of cancellation is lower, assuming a lower cancellation rate will increase revenue.\n",
    "\n",
    "Next, let's see how often a person with previous bookings that weren't cancelled cancels on a booking."
   ]
  },
  {
   "cell_type": "code",
   "execution_count": 74,
   "id": "f49ca95d",
   "metadata": {},
   "outputs": [
    {
     "data": {
      "text/plain": [
       "0    3210\n",
       "1     187\n",
       "Name: is_canceled, dtype: int64"
      ]
     },
     "execution_count": 74,
     "metadata": {},
     "output_type": "execute_result"
    }
   ],
   "source": [
    "df[df['previous_bookings_not_canceled'] > 0]['is_canceled'].value_counts()"
   ]
  },
  {
   "cell_type": "markdown",
   "id": "c79efe85",
   "metadata": {},
   "source": [
    "Of the 3620 bookings from an individual where the previous booking wasn't cancelled, the more recent booking was cancelled only about 5% of those returning, noncancelling guests. This is much lower than the 37% average cancellation rate. Hotels should focus on these guests with a proven track record of noncancellation if they want to reduce cancellation rates.\n",
    "\n",
    "What percent of those without noncancelled previous bookings cancel their bookings?"
   ]
  },
  {
   "cell_type": "code",
   "execution_count": 75,
   "id": "0411c0a5",
   "metadata": {},
   "outputs": [
    {
     "data": {
      "text/plain": [
       "0    71535\n",
       "1    43965\n",
       "Name: is_canceled, dtype: int64"
      ]
     },
     "execution_count": 75,
     "metadata": {},
     "output_type": "execute_result"
    }
   ],
   "source": [
    "df[df['previous_bookings_not_canceled'] == 0]['is_canceled'].value_counts()"
   ]
  },
  {
   "cell_type": "markdown",
   "id": "95e956a2",
   "metadata": {},
   "source": [
    "Those without any previous noncancelled bookings cancel at a rate of 38% - slightly above the sample average!"
   ]
  },
  {
   "cell_type": "markdown",
   "id": "0aa75fb9",
   "metadata": {},
   "source": [
    "## 5. What can hotels do to increase revenue?\n",
    "### Two ways: Increased bookings or increased ADR\n",
    "In the next section, we will create a linear regression model in an attempt to see which ways the other variables play into the adr, or average daily rate, for hotel bookings. We can then use these findings to try to determine how the hotels create their booking models."
   ]
  },
  {
   "cell_type": "code",
   "execution_count": null,
   "id": "a08ef6f7",
   "metadata": {},
   "outputs": [],
   "source": []
  }
 ],
 "metadata": {
  "kernelspec": {
   "display_name": "Python 3 (ipykernel)",
   "language": "python",
   "name": "python3"
  },
  "language_info": {
   "codemirror_mode": {
    "name": "ipython",
    "version": 3
   },
   "file_extension": ".py",
   "mimetype": "text/x-python",
   "name": "python",
   "nbconvert_exporter": "python",
   "pygments_lexer": "ipython3",
   "version": "3.9.7"
  }
 },
 "nbformat": 4,
 "nbformat_minor": 5
}
